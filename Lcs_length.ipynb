{
  "nbformat": 4,
  "nbformat_minor": 0,
  "metadata": {
    "colab": {
      "provenance": [],
      "authorship_tag": "ABX9TyNccU/qaMnLpjFf7WOZE+1f",
      "include_colab_link": true
    },
    "kernelspec": {
      "name": "python3",
      "display_name": "Python 3"
    },
    "language_info": {
      "name": "python"
    }
  },
  "cells": [
    {
      "cell_type": "markdown",
      "metadata": {
        "id": "view-in-github",
        "colab_type": "text"
      },
      "source": [
        "<a href=\"https://colab.research.google.com/github/AMIRMOHAMMAD-OSS/classi/blob/main/Lcs_length.ipynb\" target=\"_parent\"><img src=\"https://colab.research.google.com/assets/colab-badge.svg\" alt=\"Open In Colab\"/></a>"
      ]
    },
    {
      "cell_type": "code",
      "execution_count": 2,
      "metadata": {
        "id": "BV97_mOB4y_b"
      },
      "outputs": [],
      "source": [
        "import functools as f\n",
        "\n",
        "@f.cache\n",
        "def lcs_len(a,b,i,j):\n",
        "  if i == 0 or j == 0:\n",
        "    return 0\n",
        "  if a[i-1] == b[j-1]:\n",
        "    return 1+ lcs_len(a,b,i-1,j-1)\n",
        "  else:\n",
        "    return max(lcs_len(a,b,i-1,j),lcs_len(a,b,i,j-1))"
      ]
    },
    {
      "cell_type": "code",
      "source": [
        "sequence1 = \"abcd\"*40\n",
        "sequence2 =\"cdab\" *30\n",
        "\n",
        "lcs_len(sequence1,sequence2,len(sequence1),len(sequence2))"
      ],
      "metadata": {
        "colab": {
          "base_uri": "https://localhost:8080/"
        },
        "id": "XkBbB7Oh5g_U",
        "outputId": "13865e8c-61e5-40ab-b3d7-443ba0cb7ea9"
      },
      "execution_count": 3,
      "outputs": [
        {
          "output_type": "execute_result",
          "data": {
            "text/plain": [
              "120"
            ]
          },
          "metadata": {},
          "execution_count": 3
        }
      ]
    }
  ]
}